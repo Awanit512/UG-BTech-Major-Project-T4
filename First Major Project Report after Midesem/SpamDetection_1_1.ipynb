{
  "nbformat": 4,
  "nbformat_minor": 0,
  "metadata": {
    "colab": {
      "name": "SpamDetection_1.1.ipynb",
      "provenance": [],
      "collapsed_sections": [],
      "toc_visible": true
    },
    "kernelspec": {
      "name": "python3",
      "display_name": "Python 3"
    },
    "language_info": {
      "name": "python"
    }
  },
  "cells": [
    {
      "cell_type": "markdown",
      "source": [
        "##Spam detection using ML models\n",
        "####By: Pintu, 181co139\n",
        "####Date: 30/01/22"
      ],
      "metadata": {
        "id": "0K9EuvmOCWvc"
      }
    },
    {
      "cell_type": "markdown",
      "source": [
        "###Variables"
      ],
      "metadata": {
        "id": "HWUO0QyPp6LY"
      }
    },
    {
      "cell_type": "code",
      "source": [
        "#x <- preprocessed\n",
        "#x_train <- padded seq, type=list(list(int)). \n",
        "#X <- smoted, type=nd.array of int\n",
        "#y <- labels, type=nd.array of int\n",
        "#x1 <- final embedding, 3D data.\n",
        "#x2 <- 2D reshaped data\n",
        "#x_train & y_train <- training set.\n",
        "#x_test & y_test <- testing set.\n"
      ],
      "metadata": {
        "id": "iiFmMdS2p_WN"
      },
      "execution_count": null,
      "outputs": []
    },
    {
      "cell_type": "markdown",
      "source": [
        "###mount Googledrive\n"
      ],
      "metadata": {
        "id": "048jq3lWWg-A"
      }
    },
    {
      "cell_type": "code",
      "source": [
        "from google.colab import drive\n",
        "drive.mount('/content/drive')"
      ],
      "metadata": {
        "colab": {
          "base_uri": "https://localhost:8080/"
        },
        "id": "jeyajzBzWV9N",
        "outputId": "4c3dfbd3-5fa5-49c9-86e9-93fc939b55e5"
      },
      "execution_count": null,
      "outputs": [
        {
          "output_type": "stream",
          "name": "stdout",
          "text": [
            "Mounted at /content/drive\n"
          ]
        }
      ]
    },
    {
      "cell_type": "markdown",
      "source": [
        "###Read the dataset"
      ],
      "metadata": {
        "id": "ttrji0eyV-WH"
      }
    },
    {
      "cell_type": "code",
      "source": [
        "#Pintu 29/01/22\n",
        "from sklearn import preprocessing\n",
        "import pandas as pd\n",
        "\n",
        "dataset=pd.read_csv('/content/drive/MyDrive/Colab datasets/Spam_dataset.csv', header=0, delimiter=\",\")\n",
        "\n",
        "#remove the missing data.\n",
        "dataset=dataset.dropna()\n",
        "print(\"Head of the dataset =>\\n\",dataset.head()) #dataset.tail()\n",
        "\n",
        "#Category -> Integer\n",
        "#Ham = 0\n",
        "#Spam = 1\n",
        "# le = preprocessing.LabelEncoder()\n",
        "# le.fit(dataset.Category)\n",
        "# dataset['Category'] = le.transform(dataset.Category)\n",
        "\n",
        "spam_cnt=0\n",
        "for i in range(0, len(dataset['Category'])):\n",
        "  if (dataset['Category'][i]=='ham'):\n",
        "    dataset['Category'][i]=\"0\"\n",
        "  else:\n",
        "    dataset['Category'][i]=\"1\"\n",
        "    spam_cnt+=1\n",
        "\n",
        "\n",
        "print(\"\\nTail of dataset after labelling =>\\n\",dataset.tail())\n",
        "print(\"\\nTotal spam texts are =>\", spam_cnt,\" out of \",len(dataset))"
      ],
      "metadata": {
        "colab": {
          "base_uri": "https://localhost:8080/"
        },
        "id": "0yBgYyQJV5ky",
        "outputId": "23585c41-e237-4993-9aed-699a78499413"
      },
      "execution_count": null,
      "outputs": [
        {
          "output_type": "stream",
          "name": "stdout",
          "text": [
            "Head of the dataset =>\n",
            "   Category                                            Message\n",
            "0      ham  Go until jurong point, crazy.. Available only ...\n",
            "1      ham                      Ok lar... Joking wif u oni...\n",
            "2     spam  Free entry in 2 a wkly comp to win FA Cup fina...\n",
            "3      ham  U dun say so early hor... U c already then say...\n",
            "4      ham  Nah I don't think he goes to usf, he lives aro...\n",
            "\n",
            "Tail of dataset after labelling =>\n",
            "      Category                                            Message\n",
            "5567        1  This is the 2nd time we have tried 2 contact u...\n",
            "5568        0               Will ü b going to esplanade fr home?\n",
            "5569        0  Pity, * was in mood for that. So...any other s...\n",
            "5570        0  The guy did some bitching but I acted like i'd...\n",
            "5571        0                         Rofl. Its true to its name\n",
            "\n",
            "Total spam texts are => 747  out of  5572\n"
          ]
        }
      ]
    },
    {
      "cell_type": "markdown",
      "source": [
        "###PreProcessing\n"
      ],
      "metadata": {
        "id": "x4Zn63h_cxJx"
      }
    },
    {
      "cell_type": "code",
      "source": [
        "#Pintu 29/01/22\n",
        "#Preprocessing of the dataset step\n",
        "\n",
        "#PUNCTUATION \n",
        "#library that contains punctuation\n",
        "import string\n",
        "string.punctuation\n",
        "#defining the function to remove punctuation\n",
        "def remove_punctuation(text):\n",
        "    punctuationfree=\"\".join([i for i in text if i not in string.punctuation])\n",
        "    return punctuationfree\n",
        "\n",
        "#TOLOWER\n",
        "#converting text into lower format.\n",
        "def to_lower(text):\n",
        "    lowered_text=text.lower()\n",
        "    return lowered_text\n",
        "\n",
        "#TOKENIZATION\n",
        "#defining function for tokenization\n",
        "import nltk\n",
        "nltk.download('punkt')\n",
        "from nltk.tokenize import word_tokenize\n",
        "def tokenization(text):\n",
        "    tokens = word_tokenize(text)\n",
        "    return tokens\n",
        "\n",
        "#REMOVE STOPWORDS\n",
        "#importing nlp library\n",
        "import nltk\n",
        "nltk.download('stopwords')\n",
        "#Stop words present in the library\n",
        "stopwords = nltk.corpus.stopwords.words('english')\n",
        "print(\"\\nFew english stopwords are: \",stopwords[0:10])\n",
        "\n",
        "#defining the function to remove stopwords from tokenized text\n",
        "def remove_stopwords(text):\n",
        "    output= [i for i in text if i not in stopwords]\n",
        "    return output\n",
        "\n",
        "#STEMMING\n",
        "#importing the Stemming function from nltk library\n",
        "from nltk.stem.porter import PorterStemmer\n",
        "#defining the object for stemming\n",
        "porter_stemmer = PorterStemmer()\n",
        "#defining a function for stemming\n",
        "def stemming(text):\n",
        "    stem_text = [porter_stemmer.stem(word) for word in text]\n",
        "    return stem_text\n",
        "\n",
        "#LEMMATIZATION\n",
        "nltk.download('wordnet')\n",
        "from nltk.stem import WordNetLemmatizer\n",
        "#defining the object for Lemmatization\n",
        "wordnet_lemmatizer = WordNetLemmatizer()\n",
        "#defining the function for lemmatization\n",
        "def lemmatizer(text):\n",
        "    lemmed_text = [wordnet_lemmatizer.lemmatize(word) for word in text]\n",
        "    return lemmed_text\n",
        "\n",
        "\n",
        "##PRE-PROCESSING##\n",
        "def text_preprocessing(text):\n",
        "    punctuation_free=remove_punctuation(text)\n",
        "    lower_text=to_lower(punctuation_free)\n",
        "    tokenized_text=tokenization(lower_text)\n",
        "    stopwords_free=remove_stopwords(tokenized_text)\n",
        "    stemmed_text=stemming(stopwords_free)\n",
        "    lemmatized_text=lemmatizer(stemmed_text)\n",
        "    return [punctuation_free,lower_text,tokenized_text,stopwords_free,stemmed_text,lemmatized_text]\n",
        "\n",
        "#Apply pre-processing function.\n",
        "for i in range(0,len(dataset['Message'])):\n",
        "  dataset['Message'][i]=text_preprocessing(dataset['Message'][i])[5]\n",
        "\n",
        "#Many other steps include: URL removal, HTML tags removal, Rare words removal, Frequent words removal, Spelling checking, and many more.\n",
        "#But we are not going for further pre-processing cause we need to detect spams and spam contains URL."
      ],
      "metadata": {
        "colab": {
          "base_uri": "https://localhost:8080/"
        },
        "id": "DyTlMdgjWOIJ",
        "outputId": "00df030a-45d5-44e6-de05-5942aed4bcd6"
      },
      "execution_count": null,
      "outputs": [
        {
          "output_type": "stream",
          "name": "stdout",
          "text": [
            "[nltk_data] Downloading package punkt to /root/nltk_data...\n",
            "[nltk_data]   Unzipping tokenizers/punkt.zip.\n",
            "[nltk_data] Downloading package stopwords to /root/nltk_data...\n",
            "[nltk_data]   Unzipping corpora/stopwords.zip.\n",
            "\n",
            "Few english stopwords are:  ['i', 'me', 'my', 'myself', 'we', 'our', 'ours', 'ourselves', 'you', \"you're\"]\n",
            "[nltk_data] Downloading package wordnet to /root/nltk_data...\n",
            "[nltk_data]   Unzipping corpora/wordnet.zip.\n"
          ]
        }
      ]
    },
    {
      "cell_type": "markdown",
      "source": [
        "###Verify pre-processing"
      ],
      "metadata": {
        "id": "VyyzZC6PYH0D"
      }
    },
    {
      "cell_type": "code",
      "source": [
        "#Pintu 29/01/22\n",
        "#verify.\n",
        "\n",
        "text=\"Let's See; CONNECTION Misunderstanding swimming; ASSure the Authentication: of Working of tExt Pre-processing\"\n",
        "[punctuation_free,lower_text,tokenized_text,stopwords_free,stemmed_text,lemmatized_text]=text_preprocessing(text)\n",
        "print(\"Remove punctuation=> \",punctuation_free)\n",
        "print(\"Lowered text      => \",lower_text)\n",
        "print(\"Tokens separated  => \",tokenized_text)\n",
        "print(\"Remove stopwords  => \",stopwords_free)\n",
        "print(\"Stemming          => \",stemmed_text)\n",
        "print(\"Lemmatizer        => \",lemmatized_text)\n",
        "\n",
        "print(\"\\nVerify the proper preprocessing:\\n\",dataset['Message'][0:7])\n",
        "\n",
        "#success msg.\n",
        "print(\"\\nAll texts have been preprocessed successfully!!\")"
      ],
      "metadata": {
        "colab": {
          "base_uri": "https://localhost:8080/"
        },
        "id": "NcO8eoE-YHCh",
        "outputId": "724d3472-8bb3-42aa-c8f2-e9576cb522f4"
      },
      "execution_count": null,
      "outputs": [
        {
          "output_type": "stream",
          "name": "stdout",
          "text": [
            "Remove punctuation=>  Lets See CONNECTION Misunderstanding swimming ASSure the Authentication of Working of tExt Preprocessing\n",
            "Lowered text      =>  lets see connection misunderstanding swimming assure the authentication of working of text preprocessing\n",
            "Tokens separated  =>  ['lets', 'see', 'connection', 'misunderstanding', 'swimming', 'assure', 'the', 'authentication', 'of', 'working', 'of', 'text', 'preprocessing']\n",
            "Remove stopwords  =>  ['lets', 'see', 'connection', 'misunderstanding', 'swimming', 'assure', 'authentication', 'working', 'text', 'preprocessing']\n",
            "Stemming          =>  ['let', 'see', 'connect', 'misunderstand', 'swim', 'assur', 'authent', 'work', 'text', 'preprocess']\n",
            "Lemmatizer        =>  ['let', 'see', 'connect', 'misunderstand', 'swim', 'assur', 'authent', 'work', 'text', 'preprocess']\n",
            "\n",
            "Verify the proper preprocessing:\n",
            " 0    [go, jurong, point, crazi, avail, bugi, n, gre...\n",
            "1                         [ok, lar, joke, wif, u, oni]\n",
            "2    [free, entri, 2, wkli, comp, win, fa, cup, fin...\n",
            "3        [u, dun, say, earli, hor, u, c, alreadi, say]\n",
            "4    [nah, dont, think, goe, usf, live, around, tho...\n",
            "5    [freemsg, hey, darl, 3, week, word, back, id, ...\n",
            "6    [even, brother, like, speak, treat, like, aid,...\n",
            "Name: Message, dtype: object\n",
            "\n",
            "All texts have been preprocessed successfully!!\n"
          ]
        }
      ]
    },
    {
      "cell_type": "markdown",
      "source": [
        "###Create Vocabulary"
      ],
      "metadata": {
        "id": "CodhyaMVgLWA"
      }
    },
    {
      "cell_type": "code",
      "source": [
        "#pintu 30/01/22\n",
        "\n",
        "from tensorflow.keras.preprocessing.text import Tokenizer                    \n",
        "from tensorflow.keras.preprocessing.sequence import pad_sequences\n",
        "\n",
        "x=dataset['Message']\n",
        "y=dataset['Category']\n",
        "\n",
        "#create the dict.\n",
        "tokenizer = Tokenizer(num_words=8000)\n",
        "tokenizer.fit_on_texts(x)\n",
        "\n",
        "#number of unique words in dict.\n",
        "print(\"Number of unique words in dictionary=\",len(tokenizer.word_index))\n",
        "\n",
        "#replace words with their index in vocab.\n",
        "x_train = tokenizer.texts_to_sequences(x)\n",
        "print(\"Type of x_train(3D) obviously int =\",type(x_train),type(x_train[0]),type(x_train[0][0]))\n",
        "\n",
        "# Adding 1 because of  reserved 0 index\n",
        "vocab_size = len(tokenizer.word_index) + 1  \n",
        "\n",
        "#size of random text in training set.\n",
        "print(\"Length of random text=\")\n",
        "for i in range(10):\n",
        "  print(\"Length of \",i+1,\" text is => \",len(x_train[i]))\n",
        "\n",
        "#Maximum length of each text\n",
        "maxlen = 30\n",
        "\n",
        "#pad the short text and truncate longer texts.\n",
        "x_train = pad_sequences(x_train, padding='post', maxlen=maxlen)"
      ],
      "metadata": {
        "colab": {
          "base_uri": "https://localhost:8080/"
        },
        "id": "iV6RDKhOOnSP",
        "outputId": "0204c1af-16cc-4a66-bdb6-0410f2e10766"
      },
      "execution_count": null,
      "outputs": [
        {
          "output_type": "stream",
          "name": "stdout",
          "text": [
            "Number of unique words in dictionary= 8145\n",
            "Type of x_train(3D) obviously int = <class 'list'> <class 'list'> <class 'int'>\n",
            "Length of random text=\n",
            "Length of  1  text is =>  16\n",
            "Length of  2  text is =>  6\n",
            "Length of  3  text is =>  23\n",
            "Length of  4  text is =>  9\n",
            "Length of  5  text is =>  8\n",
            "Length of  6  text is =>  19\n",
            "Length of  7  text is =>  8\n",
            "Length of  8  text is =>  16\n",
            "Length of  9  text is =>  18\n",
            "Length of  10  text is =>  18\n"
          ]
        }
      ]
    },
    {
      "cell_type": "markdown",
      "source": [
        "###Confirm that text is converted into vector"
      ],
      "metadata": {
        "id": "V2Pnhfm5hVcY"
      }
    },
    {
      "cell_type": "code",
      "source": [
        "#pintu 30/01/22\n",
        "print(\"First tweet=> \",x[0])\n",
        "print(\"Text to seq=> \",x_train[0])\n",
        "print(\"\\nVerification successful!\")"
      ],
      "metadata": {
        "colab": {
          "base_uri": "https://localhost:8080/"
        },
        "id": "8O8yhi2AQJbJ",
        "outputId": "44f3d20c-6c3c-4dd4-da07-ab87e9c7b326"
      },
      "execution_count": null,
      "outputs": [
        {
          "output_type": "stream",
          "name": "stdout",
          "text": [
            "First tweet=>  ['go', 'jurong', 'point', 'crazi', 'avail', 'bugi', 'n', 'great', 'world', 'la', 'e', 'buffet', 'cine', 'got', 'amor', 'wat']\n",
            "Text to seq=>  [   5 3746  289  600  559 1075   44   69  263 1076   97 2494 1077   16\n",
            " 3747   73    0    0    0    0    0    0    0    0    0    0    0    0\n",
            "    0    0]\n",
            "\n",
            "Verification successful!\n"
          ]
        }
      ]
    },
    {
      "cell_type": "markdown",
      "source": [
        "###SMOTE: Synthetic Minority Oversampling TEchnique"
      ],
      "metadata": {
        "id": "1KwlP5caQkda"
      }
    },
    {
      "cell_type": "code",
      "source": [
        "#Pintu 30/01/22\n",
        "\n",
        "from imblearn.over_sampling import SMOTE\n",
        "from imblearn.under_sampling import RandomUnderSampler\n",
        "from imblearn.pipeline import Pipeline\n",
        "#print(imblearn.__version__)\n",
        "from collections import Counter\n",
        "import numpy as np\n",
        "\n",
        "msg,y= x_train, dataset['Category'].to_numpy()\n",
        "print(\"Type of message column and class label => \",type(msg),type(y))\n",
        "count = Counter(y)\n",
        "print(\"\\nInitial Count of each class is =>\",count)\n",
        "\n",
        "# over = SMOTE(sampling_strategy=0.2) #sampling_strategy argument tells that minority = 10% of majority.\n",
        "# X, y = over.fit_resample(X, y)\n",
        "# under = RandomUnderSampler(sampling_strategy=0.5) #sampling_strategy argument tells that majority = 1/0.5 of minority.\n",
        "# X, y = under.fit_resample(X, y)\n",
        "\n",
        "#Using Pipeline instead of doing separately.\n",
        "over = SMOTE(sampling_strategy=0.2)\n",
        "under = RandomUnderSampler(sampling_strategy=0.5)\n",
        "steps_in_order = [('o', over), ('u', under)]\n",
        "pipeline = Pipeline(steps=steps_in_order)\n",
        "\n",
        "# transform the dataset\n",
        "X, y = pipeline.fit_resample(msg, y)\n",
        "# summarize the new class distribution\n",
        "counter = Counter(y)\n",
        "print(\"\\nNew count after SMOTE of both class =>\",counter)\n",
        "print(\"\\nSize of X and y => \",len(X),len(y))"
      ],
      "metadata": {
        "colab": {
          "base_uri": "https://localhost:8080/"
        },
        "id": "V66VNaXsQkCe",
        "outputId": "79bcc5b3-29f5-4aaa-8105-931ed85580cc"
      },
      "execution_count": null,
      "outputs": [
        {
          "output_type": "stream",
          "name": "stdout",
          "text": [
            "Type of message column and class label =>  <class 'numpy.ndarray'> <class 'numpy.ndarray'>\n",
            "\n",
            "Initial Count of each class is => Counter({'0': 4825, '1': 747})\n",
            "\n",
            "New count after SMOTE of both class => Counter({'0': 1930, '1': 965})\n",
            "\n",
            "Size of X and y =>  2895 2895\n"
          ]
        }
      ]
    },
    {
      "cell_type": "markdown",
      "source": [
        "###Download zip glove file"
      ],
      "metadata": {
        "id": "opIXMwzdhh0P"
      }
    },
    {
      "cell_type": "code",
      "source": [
        "# !wget http://nlp.stanford.edu/data/glove.6B.zip\n",
        "#50d and 100d files are in drive.😁"
      ],
      "metadata": {
        "id": "ZqYbN3pRTkk_",
        "colab": {
          "base_uri": "https://localhost:8080/"
        },
        "outputId": "42e3dca7-b627-4163-e915-46afa90beee9"
      },
      "execution_count": null,
      "outputs": [
        {
          "output_type": "stream",
          "name": "stdout",
          "text": [
            "--2022-02-06 17:29:22--  http://nlp.stanford.edu/data/glove.6B.zip\n",
            "Resolving nlp.stanford.edu (nlp.stanford.edu)... 171.64.67.140\n",
            "Connecting to nlp.stanford.edu (nlp.stanford.edu)|171.64.67.140|:80... connected.\n",
            "HTTP request sent, awaiting response... 302 Found\n",
            "Location: https://nlp.stanford.edu/data/glove.6B.zip [following]\n",
            "--2022-02-06 17:29:22--  https://nlp.stanford.edu/data/glove.6B.zip\n",
            "Connecting to nlp.stanford.edu (nlp.stanford.edu)|171.64.67.140|:443... connected.\n",
            "HTTP request sent, awaiting response... 301 Moved Permanently\n",
            "Location: http://downloads.cs.stanford.edu/nlp/data/glove.6B.zip [following]\n",
            "--2022-02-06 17:29:23--  http://downloads.cs.stanford.edu/nlp/data/glove.6B.zip\n",
            "Resolving downloads.cs.stanford.edu (downloads.cs.stanford.edu)... 171.64.64.22\n",
            "Connecting to downloads.cs.stanford.edu (downloads.cs.stanford.edu)|171.64.64.22|:80... connected.\n",
            "HTTP request sent, awaiting response... 200 OK\n",
            "Length: 862182613 (822M) [application/zip]\n",
            "Saving to: ‘glove.6B.zip’\n",
            "\n",
            "glove.6B.zip        100%[===================>] 822.24M  5.01MB/s    in 2m 41s  \n",
            "\n",
            "2022-02-06 17:32:03 (5.12 MB/s) - ‘glove.6B.zip’ saved [862182613/862182613]\n",
            "\n"
          ]
        }
      ]
    },
    {
      "cell_type": "markdown",
      "source": [
        "###Unzip glove file"
      ],
      "metadata": {
        "id": "zvtfxeO9hprL"
      }
    },
    {
      "cell_type": "code",
      "source": [
        "# !unzip glove*.zip #with above loc.\n",
        "\n",
        "#!unzip /content/drive/MyDrive/Project_Fake_News_Detection_DL/03_glove_files/glove.6B.50d.zip"
      ],
      "metadata": {
        "colab": {
          "base_uri": "https://localhost:8080/"
        },
        "id": "f7q1sN_-To0q",
        "outputId": "6bc0b5b3-5eb5-4134-f8c9-c244c9512688"
      },
      "execution_count": null,
      "outputs": [
        {
          "output_type": "stream",
          "name": "stdout",
          "text": [
            "Archive:  /content/drive/MyDrive/Project_Fake_News_Detection_DL/03_glove_files/glove.6B.50d.zip\n",
            "  inflating: glove.6B.50d.txt        \n"
          ]
        }
      ]
    },
    {
      "cell_type": "markdown",
      "source": [
        "###Create embeddings of vocab."
      ],
      "metadata": {
        "id": "qWAgKLqr4WS3"
      }
    },
    {
      "cell_type": "code",
      "source": [
        "#Pintu 30/01/22\n",
        "import numpy as np\n",
        "\n",
        "#vocab: 'the': 1, mapping of words with integers in seq. 1,2,3..\n",
        "#embedding: 1->dense vector\n",
        "\n",
        "def embedding_for_vocab(filepath, word_index, embedding_dim):\n",
        "    vocab_size = len(word_index) + 1  \n",
        "    # Adding again 1 because of reserved 0 index\n",
        "    embedding_matrix_vocab = np.zeros((vocab_size, embedding_dim))\n",
        "  \n",
        "    with open(filepath) as f:\n",
        "        for line in f:\n",
        "            word, *vector = line.split()\n",
        "            if word in word_index:\n",
        "                idx = word_index[word] \n",
        "                embedding_matrix_vocab[idx] = np.array(vector, dtype=np.float32)[:embedding_dim]\n",
        "\n",
        "    return embedding_matrix_vocab\n",
        "\n",
        "#matrix for vocab: word_index #/content/glove.6B.50d.txt\n",
        "embedding_dim = 50\n",
        "embedding_matrix_vocab = embedding_for_vocab('/content/glove.6B.50d.txt',tokenizer.word_index,embedding_dim)\n"
      ],
      "metadata": {
        "id": "s_JXnoME4VcI"
      },
      "execution_count": null,
      "outputs": []
    },
    {
      "cell_type": "markdown",
      "source": [
        "###Verify the vocabulary and embedding matrix."
      ],
      "metadata": {
        "id": "jz8GWlVE5N3_"
      }
    },
    {
      "cell_type": "code",
      "source": [
        "#Pintu 30/01/22\n",
        "\n",
        "print(\"Type of vocabulary => \",type(tokenizer.word_index))\n",
        "print(\"\\nVocabulary glance => \",)\n",
        "stop=0\n",
        "\n",
        "#see the dict.\n",
        "for word,index in tokenizer.word_index.items():\n",
        "  stop+=1\n",
        "  if(stop==10):\n",
        "    break\n",
        "  print(index,\" => \",word)\n",
        "  \n",
        "#dense vector.\n",
        "print(\"\\nDense vector of first word in dict => \\n\",embedding_matrix_vocab[1])\n"
      ],
      "metadata": {
        "colab": {
          "base_uri": "https://localhost:8080/"
        },
        "id": "mAzpXnvQ5GXn",
        "outputId": "24146599-147b-4828-eb9f-c294a9bf7ee8"
      },
      "execution_count": null,
      "outputs": [
        {
          "output_type": "stream",
          "name": "stdout",
          "text": [
            "Type of vocabulary =>  <class 'dict'>\n",
            "\n",
            "Vocabulary glance => \n",
            "1  =>  u\n",
            "2  =>  call\n",
            "3  =>  2\n",
            "4  =>  im\n",
            "5  =>  go\n",
            "6  =>  get\n",
            "7  =>  ur\n",
            "8  =>  come\n",
            "9  =>  4\n",
            "\n",
            "Dense vector of first word in dict => \n",
            " [-0.25676     0.8549      1.10029995  0.95362997  0.36585    -1.30289996\n",
            "  1.07539999 -0.18460999 -0.67673999  0.37637001 -0.029637    0.51697999\n",
            " -0.19248    -0.41863    -0.71144003  0.12564    -0.42965001  0.61456001\n",
            "  0.41819     0.27605999 -0.48635    -0.32585001  0.67747998  0.15916\n",
            "  0.35051    -0.29392999 -0.80439001 -0.15939     0.012475   -0.58403999\n",
            "  2.13529992 -0.1547     -0.57389998  1.45220006  0.6124     -0.68752003\n",
            "  1.28390002 -0.54631001 -0.35736999  0.57323003  0.35460001 -0.37465\n",
            " -0.74628001 -0.074561   -0.48471001  0.067343   -0.039338   -0.22177\n",
            "  0.099708    0.55553001]\n"
          ]
        }
      ]
    },
    {
      "cell_type": "markdown",
      "source": [
        "###Create embedding for all tweet texts."
      ],
      "metadata": {
        "id": "8VQLWEV14g--"
      }
    },
    {
      "cell_type": "code",
      "source": [
        "#Pintu 30/01/22\n",
        "\n",
        "import numpy as np\n",
        "\n",
        "#tweet_text: [23, 0, 34, ..., 35] tweet converted into seq.\n",
        "#goal: [[dense vector for 23], ..., [dense vecor for 35]]\n",
        "def embedded_tweet_text(embedding_matrix_vocab, tweet_text):\n",
        "    matrix_size = len(tweet_text)   \n",
        "    \n",
        "    tweet_text_matrix = np.zeros((matrix_size, embedding_dim))\n",
        "    \n",
        "    #traverse pad_seq of each tweet text\n",
        "    for i in range(0,matrix_size):\n",
        "      index=tweet_text[i]\n",
        "      if(index==0):\n",
        "        continue\n",
        "      else:\n",
        "        tweet_text_matrix[i]=embedding_matrix_vocab[index]\n",
        "    return tweet_text_matrix\n",
        "\n",
        "#define zero matrix.\n",
        "n=len(X)\n",
        "x1=np.zeros((n, 30, 50))\n",
        "\n",
        "#populate matrix.\n",
        "for i in range(0,n):\n",
        "  x1[i]=embedded_tweet_text(embedding_matrix_vocab, X[i])\n",
        "\n",
        "#ML model don't accept input in 3D shape\n",
        "#so reshape 3D into 2D: 1D array per tweet.\n",
        "x2=x1.reshape(len(X),-1)\n",
        "print(\"Shape of x2 => \",x2.shape)"
      ],
      "metadata": {
        "colab": {
          "base_uri": "https://localhost:8080/"
        },
        "id": "NUNt5zL94gWj",
        "outputId": "71002261-fab4-457a-cbcf-740bdb040c02"
      },
      "execution_count": null,
      "outputs": [
        {
          "output_type": "stream",
          "name": "stdout",
          "text": [
            "Shape of x2 =>  (2895, 1500)\n"
          ]
        }
      ]
    },
    {
      "cell_type": "markdown",
      "source": [
        "###Verifying whole embedding."
      ],
      "metadata": {
        "id": "ZDnAnHkB6vnQ"
      }
    },
    {
      "cell_type": "code",
      "source": [
        "#x <- preprocessed\n",
        "#x_train <- padded seq\n",
        "#X <- smoted\n",
        "#x1 <- final embedding, 3D data.\n",
        "#x2 <- 2D reshaped data\n",
        "\n",
        "print(\"First tweet as text =>\\n\",dataset['Message'][1])\n",
        "print(\"First tweet: text->seq =>\\n\",x_train[1])\n",
        "print(\"Dense vector for 1st word of above tweet =>\\n\",embedding_matrix_vocab[22])\n",
        "print(\"First tweet -> 2D matrix of dense vectors =>\\n\",x1[1])"
      ],
      "metadata": {
        "colab": {
          "base_uri": "https://localhost:8080/"
        },
        "id": "zoHD7ZKU6IEb",
        "outputId": "01d887c2-6a84-4a7b-90eb-c7ea7f285a63"
      },
      "execution_count": null,
      "outputs": [
        {
          "output_type": "stream",
          "name": "stdout",
          "text": [
            "First tweet as text =>\n",
            " ['ok', 'lar', 'joke', 'wif', 'u', 'oni']\n",
            "First tweet: text->seq =>\n",
            " [  11  249  560  366    1 1596    0    0    0    0    0    0    0    0\n",
            "    0    0    0    0    0    0    0    0    0    0    0    0    0    0\n",
            "    0    0]\n",
            "Dense vector for 1st word of above tweet =>\n",
            " [-3.55859995e-01  5.21300018e-01 -6.10700011e-01 -3.01310003e-01\n",
            "  9.48620021e-01 -3.15389991e-01 -5.98309994e-01  1.21880002e-01\n",
            " -3.19430009e-02  5.56949973e-01 -1.06210001e-01  6.33989990e-01\n",
            " -4.73399997e-01 -7.58949965e-02  3.82470012e-01  8.15690011e-02\n",
            "  8.22139978e-01  2.22200006e-01 -8.37639999e-03 -7.66200006e-01\n",
            " -5.62529981e-01  6.17590010e-01  2.02920005e-01 -4.85979989e-02\n",
            "  8.78149986e-01 -1.65489995e+00 -7.74179995e-01  1.54349998e-01\n",
            "  9.48230028e-01 -3.95200014e-01  3.73020005e+00  8.28549981e-01\n",
            " -1.41039997e-01  1.63950007e-02  2.11150005e-01 -3.60849984e-02\n",
            " -1.55870005e-01  8.65830004e-01  2.63090014e-01 -7.10150003e-01\n",
            " -3.67700011e-02  1.82819995e-03 -1.77039996e-01  2.70319998e-01\n",
            "  1.10260002e-01  1.41330004e-01 -5.73219992e-02  2.72069991e-01\n",
            "  3.13050002e-01  9.27709997e-01]\n",
            "First tweet -> 2D matrix of dense vectors =>\n",
            " [[ 0.          0.          0.         ...  0.          0.\n",
            "   0.        ]\n",
            " [ 0.31369001  0.73732001  0.27500999 ... -0.25641999  0.1355\n",
            "   0.24894001]\n",
            " [-0.19261999 -0.62693    -0.29451001 ... -0.055341    0.17924\n",
            "   0.87260002]\n",
            " ...\n",
            " [ 0.          0.          0.         ...  0.          0.\n",
            "   0.        ]\n",
            " [ 0.          0.          0.         ...  0.          0.\n",
            "   0.        ]\n",
            " [ 0.          0.          0.         ...  0.          0.\n",
            "   0.        ]]\n"
          ]
        }
      ]
    },
    {
      "cell_type": "markdown",
      "source": [
        "#Build Models: k-fold cross validation using accuracy as metric."
      ],
      "metadata": {
        "id": "C1qwIGh3UXO7"
      }
    },
    {
      "cell_type": "markdown",
      "source": [
        "###ML models"
      ],
      "metadata": {
        "id": "697RHvGKq5wJ"
      }
    },
    {
      "cell_type": "code",
      "source": [
        "#libraries.\n",
        "\n",
        "from sklearn.model_selection import KFold\n",
        "from sklearn.model_selection import cross_val_score\n",
        "from numpy import mean\n",
        "\n",
        "from sklearn.linear_model import LogisticRegression\n",
        "from sklearn.linear_model import SGDClassifier\n",
        "from sklearn.neighbors import KNeighborsClassifier\n",
        "from sklearn.tree import DecisionTreeClassifier\n",
        "from sklearn.svm import SVC\n",
        "from sklearn.naive_bayes import GaussianNB\n",
        "from sklearn.ensemble import RandomForestClassifier\n",
        "from sklearn.ensemble import GradientBoostingClassifier\n",
        "\n",
        "# get a list of models to evaluate\n",
        "def get_models():\n",
        "\tmodels = list()\n",
        "\tmodels.append(LogisticRegression())\n",
        "\tmodels.append(SGDClassifier())\n",
        "\tmodels.append(KNeighborsClassifier())\n",
        "\tmodels.append(DecisionTreeClassifier())\n",
        "\tmodels.append(SVC())\n",
        "\tmodels.append(GaussianNB())\n",
        "\tmodels.append(RandomForestClassifier())\n",
        "\tmodels.append(GradientBoostingClassifier())\n",
        "\treturn models\n",
        "\n",
        "models = get_models()"
      ],
      "metadata": {
        "id": "kBl6uuzNqxsD"
      },
      "execution_count": null,
      "outputs": []
    },
    {
      "cell_type": "code",
      "source": [
        "#Pintu 30/01/22\n",
        "\n",
        "# X and y are being SMOTE\n",
        "\n",
        "#define folds\n",
        "folds = range(3,7)\n",
        "\n",
        "# evaluate each k value for a model\n",
        "def evaluate_model(model):\n",
        "  for k in folds:\n",
        "    cross_validation = KFold(n_splits=k, shuffle=True, random_state=1)\n",
        "    scores = cross_val_score(model, x2, y, scoring='accuracy', cv=cross_validation, n_jobs=-1)\n",
        "    print(\"Average of the accuracy for \",k,\"folds => \",mean(scores))\n",
        "\n",
        "# evaluate each model\n",
        "for m in models:\n",
        "  model=m\n",
        "  print(\"\\nSummary of model:\",model)\n",
        "  evaluate_model(model)"
      ],
      "metadata": {
        "id": "lOriH0WIGk5x",
        "colab": {
          "base_uri": "https://localhost:8080/"
        },
        "outputId": "f471a479-1f09-4e56-eab2-253a022529f2"
      },
      "execution_count": null,
      "outputs": [
        {
          "output_type": "stream",
          "name": "stdout",
          "text": [
            "\n",
            "Summary of model: LogisticRegression()\n",
            "Average of the accuracy for  3 folds =>  0.8756476683937824\n",
            "Average of the accuracy for  4 folds =>  0.8804785348035732\n",
            "Average of the accuracy for  5 folds =>  0.8766839378238341\n",
            "Average of the accuracy for  6 folds =>  0.8766734247971844\n",
            "\n",
            "Summary of model: SGDClassifier()\n",
            "Average of the accuracy for  3 folds =>  0.8687392055267703\n",
            "Average of the accuracy for  4 folds =>  0.8704632898527468\n",
            "Average of the accuracy for  5 folds =>  0.8614853195164077\n",
            "Average of the accuracy for  6 folds =>  0.8673487796706271\n",
            "\n",
            "Summary of model: KNeighborsClassifier()\n",
            "Average of the accuracy for  3 folds =>  0.7395509499136442\n",
            "Average of the accuracy for  4 folds =>  0.7474964275616485\n",
            "Average of the accuracy for  5 folds =>  0.7492227979274612\n",
            "Average of the accuracy for  6 folds =>  0.7530161021050431\n",
            "\n",
            "Summary of model: DecisionTreeClassifier()\n",
            "Average of the accuracy for  3 folds =>  0.816580310880829\n",
            "Average of the accuracy for  4 folds =>  0.8131194455270014\n",
            "Average of the accuracy for  5 folds =>  0.8075993091537134\n",
            "Average of the accuracy for  6 folds =>  0.8127632735696961\n",
            "\n",
            "Summary of model: SVC()\n",
            "Average of the accuracy for  3 folds =>  0.894300518134715\n",
            "Average of the accuracy for  4 folds =>  0.8977504145556804\n",
            "Average of the accuracy for  5 folds =>  0.8987910189982727\n",
            "Average of the accuracy for  6 folds =>  0.8953284422795518\n",
            "\n",
            "Summary of model: GaussianNB()\n",
            "Average of the accuracy for  3 folds =>  0.34127806563039725\n",
            "Average of the accuracy for  4 folds =>  0.341621103749723\n",
            "Average of the accuracy for  5 folds =>  0.34196891191709844\n",
            "Average of the accuracy for  6 folds =>  0.3416292249054292\n",
            "\n",
            "Summary of model: RandomForestClassifier()\n",
            "Average of the accuracy for  3 folds =>  0.8746113989637306\n",
            "Average of the accuracy for  4 folds =>  0.8849670074811062\n",
            "Average of the accuracy for  5 folds =>  0.8863557858376512\n",
            "Average of the accuracy for  6 folds =>  0.8860095243822469\n",
            "\n",
            "Summary of model: GradientBoostingClassifier()\n",
            "Average of the accuracy for  3 folds =>  0.8880829015544042\n",
            "Average of the accuracy for  4 folds =>  0.8922236422823869\n",
            "Average of the accuracy for  5 folds =>  0.8956822107081175\n",
            "Average of the accuracy for  6 folds =>  0.8925607587433314\n"
          ]
        }
      ]
    },
    {
      "cell_type": "markdown",
      "source": [
        "#Using train-test spliting"
      ],
      "metadata": {
        "id": "IyGSW9U_Jk82"
      }
    },
    {
      "cell_type": "code",
      "source": [
        "#Pintu 01/02/22\n",
        "#x <- preprocessed\n",
        "#x_train <- padded seq\n",
        "#X <- smoted\n",
        "#y <- labels \n",
        "#x1 <- final embedding, 3D data.\n",
        "#x2 <- 2D reshaped data\n",
        "#x_train & y_train <- training set.\n",
        "#x_test & y_test <- testing set.\n",
        "\n",
        "from sklearn.model_selection import train_test_split\n",
        "from sklearn.metrics import confusion_matrix, classification_report\n",
        "\n",
        "#function in above cell.\n",
        "models = get_models()\n",
        "\n",
        "#split dataset into train and test data\n",
        "print(\"Size of x2(message) and y(class) =>\",len(x2), len(y))\n",
        "x_train, x_test, y_train, y_test = train_test_split(x2, y, test_size=0.2, random_state=1, stratify=y)\n",
        "\n",
        "# # evaluate each model\n",
        "trained_model=list()\n",
        "for m in models:\n",
        "  model=m\n",
        "  trained_model.append(model.fit(x_train,y_train))\n",
        "  y_pred=model.predict(x_test)\n",
        "  acc=model.score(x_test, y_test)\n",
        "  cm=confusion_matrix(y_test, y_pred)\n",
        "  cr=classification_report(y_test, y_pred)\n",
        "  print(\"Accuracy of \",model,\" => {0:.2f} %\".format(acc*100))\n",
        "  print(\"Confusion matrix for \",model,\" =>\\n\",cm)\n",
        "  print(\"Classification report for \",model,\" =>\\n\",cr)"
      ],
      "metadata": {
        "colab": {
          "base_uri": "https://localhost:8080/"
        },
        "id": "adZm03iIJkix",
        "outputId": "8b3dfecc-4353-421d-9064-51274319e899"
      },
      "execution_count": null,
      "outputs": [
        {
          "output_type": "stream",
          "name": "stdout",
          "text": [
            "Size of x2(message) and y(class) => 2895 2895\n"
          ]
        },
        {
          "output_type": "stream",
          "name": "stderr",
          "text": [
            "/usr/local/lib/python3.7/dist-packages/sklearn/linear_model/_logistic.py:818: ConvergenceWarning: lbfgs failed to converge (status=1):\n",
            "STOP: TOTAL NO. of ITERATIONS REACHED LIMIT.\n",
            "\n",
            "Increase the number of iterations (max_iter) or scale the data as shown in:\n",
            "    https://scikit-learn.org/stable/modules/preprocessing.html\n",
            "Please also refer to the documentation for alternative solver options:\n",
            "    https://scikit-learn.org/stable/modules/linear_model.html#logistic-regression\n",
            "  extra_warning_msg=_LOGISTIC_SOLVER_CONVERGENCE_MSG,\n"
          ]
        },
        {
          "output_type": "stream",
          "name": "stdout",
          "text": [
            "Accuracy of  LogisticRegression()  => 87.91 %\n",
            "Confusion matrix for  LogisticRegression()  =>\n",
            " [[355  31]\n",
            " [ 39 154]]\n",
            "Classification report for  LogisticRegression()  =>\n",
            "               precision    recall  f1-score   support\n",
            "\n",
            "           0       0.90      0.92      0.91       386\n",
            "           1       0.83      0.80      0.81       193\n",
            "\n",
            "    accuracy                           0.88       579\n",
            "   macro avg       0.87      0.86      0.86       579\n",
            "weighted avg       0.88      0.88      0.88       579\n",
            "\n",
            "Accuracy of  SGDClassifier()  => 84.80 %\n",
            "Confusion matrix for  SGDClassifier()  =>\n",
            " [[340  46]\n",
            " [ 42 151]]\n",
            "Classification report for  SGDClassifier()  =>\n",
            "               precision    recall  f1-score   support\n",
            "\n",
            "           0       0.89      0.88      0.89       386\n",
            "           1       0.77      0.78      0.77       193\n",
            "\n",
            "    accuracy                           0.85       579\n",
            "   macro avg       0.83      0.83      0.83       579\n",
            "weighted avg       0.85      0.85      0.85       579\n",
            "\n",
            "Accuracy of  KNeighborsClassifier()  => 75.47 %\n",
            "Confusion matrix for  KNeighborsClassifier()  =>\n",
            " [[385   1]\n",
            " [141  52]]\n",
            "Classification report for  KNeighborsClassifier()  =>\n",
            "               precision    recall  f1-score   support\n",
            "\n",
            "           0       0.73      1.00      0.84       386\n",
            "           1       0.98      0.27      0.42       193\n",
            "\n",
            "    accuracy                           0.75       579\n",
            "   macro avg       0.86      0.63      0.63       579\n",
            "weighted avg       0.82      0.75      0.70       579\n",
            "\n",
            "Accuracy of  DecisionTreeClassifier()  => 80.83 %\n",
            "Confusion matrix for  DecisionTreeClassifier()  =>\n",
            " [[329  57]\n",
            " [ 54 139]]\n",
            "Classification report for  DecisionTreeClassifier()  =>\n",
            "               precision    recall  f1-score   support\n",
            "\n",
            "           0       0.86      0.85      0.86       386\n",
            "           1       0.71      0.72      0.71       193\n",
            "\n",
            "    accuracy                           0.81       579\n",
            "   macro avg       0.78      0.79      0.79       579\n",
            "weighted avg       0.81      0.81      0.81       579\n",
            "\n",
            "Accuracy of  SVC()  => 89.81 %\n",
            "Confusion matrix for  SVC()  =>\n",
            " [[360  26]\n",
            " [ 33 160]]\n",
            "Classification report for  SVC()  =>\n",
            "               precision    recall  f1-score   support\n",
            "\n",
            "           0       0.92      0.93      0.92       386\n",
            "           1       0.86      0.83      0.84       193\n",
            "\n",
            "    accuracy                           0.90       579\n",
            "   macro avg       0.89      0.88      0.88       579\n",
            "weighted avg       0.90      0.90      0.90       579\n",
            "\n",
            "Accuracy of  GaussianNB()  => 34.54 %\n",
            "Confusion matrix for  GaussianNB()  =>\n",
            " [[  7 379]\n",
            " [  0 193]]\n",
            "Classification report for  GaussianNB()  =>\n",
            "               precision    recall  f1-score   support\n",
            "\n",
            "           0       1.00      0.02      0.04       386\n",
            "           1       0.34      1.00      0.50       193\n",
            "\n",
            "    accuracy                           0.35       579\n",
            "   macro avg       0.67      0.51      0.27       579\n",
            "weighted avg       0.78      0.35      0.19       579\n",
            "\n",
            "Accuracy of  RandomForestClassifier()  => 87.05 %\n",
            "Confusion matrix for  RandomForestClassifier()  =>\n",
            " [[344  42]\n",
            " [ 33 160]]\n",
            "Classification report for  RandomForestClassifier()  =>\n",
            "               precision    recall  f1-score   support\n",
            "\n",
            "           0       0.91      0.89      0.90       386\n",
            "           1       0.79      0.83      0.81       193\n",
            "\n",
            "    accuracy                           0.87       579\n",
            "   macro avg       0.85      0.86      0.86       579\n",
            "weighted avg       0.87      0.87      0.87       579\n",
            "\n",
            "Accuracy of  GradientBoostingClassifier()  => 89.64 %\n",
            "Confusion matrix for  GradientBoostingClassifier()  =>\n",
            " [[361  25]\n",
            " [ 35 158]]\n",
            "Classification report for  GradientBoostingClassifier()  =>\n",
            "               precision    recall  f1-score   support\n",
            "\n",
            "           0       0.91      0.94      0.92       386\n",
            "           1       0.86      0.82      0.84       193\n",
            "\n",
            "    accuracy                           0.90       579\n",
            "   macro avg       0.89      0.88      0.88       579\n",
            "weighted avg       0.90      0.90      0.90       579\n",
            "\n"
          ]
        }
      ]
    },
    {
      "cell_type": "code",
      "source": [
        "print(\"ML Model part is finished!\")"
      ],
      "metadata": {
        "colab": {
          "base_uri": "https://localhost:8080/"
        },
        "id": "jtixl6_zV3Fn",
        "outputId": "84cd76ae-abf1-44ce-98a7-11faa5a0ac6c"
      },
      "execution_count": null,
      "outputs": [
        {
          "output_type": "stream",
          "name": "stdout",
          "text": [
            "ML Model part is finished!\n"
          ]
        }
      ]
    },
    {
      "cell_type": "markdown",
      "source": [
        "###TEST on random tweets."
      ],
      "metadata": {
        "id": "0qYa-uyLJIDc"
      }
    },
    {
      "cell_type": "code",
      "source": [
        "#Pintu, 01/02/2022\n",
        "import numpy as np\n",
        "\n",
        "text='you win a lottery of 2 lakh. click on below link to collect the reward. offer limited for 2 hours only'\n",
        "\n",
        "#pre-processing returns all outputs, take final output only.\n",
        "_,_,_,_,_,clean_text=text_preprocessing(text)\n",
        "print(\"Clean text => \",clean_text)\n",
        "\n",
        "#text to sequence: Hot encoding \n",
        "#below functions take 2D input: multiple rows of tweets.\n",
        "#so, pass 1D input as 2D input, by closing in []\n",
        "seq_text = tokenizer.texts_to_sequences([clean_text])\n",
        "seq_pad = pad_sequences(seq_text, padding='post', maxlen=30)\n",
        "print(\"Text to seq => \",seq_text)\n",
        "print(\"Pad  seq => \",seq_pad)\n",
        "\n",
        "#below function takes 1D input,\n",
        "#so, convert 2D input into 1D, by indexing as [0]\n",
        "embedded_text=embedded_tweet_text(embedding_matrix_vocab, seq_pad[0])\n",
        "\n",
        "#for each text, it needs 1D array, so \n",
        "#convert 2D matrix into 1D using flatten().\n",
        "final=embedded_text.flatten()\n",
        "\n",
        "#predict using all trained models.\n",
        "for i in range(len(trained_model)):\n",
        "  print(f\"Model=>{trained_model[i]}\")\n",
        "  pred_class=trained_model[i].predict([final])\n",
        "  print(f\"Ans : {pred_class}\")   ## Note the type(pred_class[0]) is 'str'\n",
        "  if(pred_class=='1'):\n",
        "    print(\"Class of given text is=> Spam\",)\n",
        "  else:\n",
        "    print(\"Class of given text is=> Non-Spam\",)\n",
        "  print('\\n\\n')"
      ],
      "metadata": {
        "colab": {
          "base_uri": "https://localhost:8080/"
        },
        "id": "vZlZ5wkTEt0z",
        "outputId": "1847cc5b-46a4-4aea-f724-3933d8c513b1"
      },
      "execution_count": null,
      "outputs": [
        {
          "output_type": "stream",
          "name": "stdout",
          "text": [
            "Clean text =>  ['win', 'lotteri', '2', 'lakh', 'click', 'link', 'collect', 'reward', 'offer', 'limit', '2', 'hour']\n",
            "Text to seq =>  [[105, 3, 4213, 1081, 781, 157, 725, 199, 1579, 3, 183]]\n",
            "Pad  seq =>  [[ 105    3 4213 1081  781  157  725  199 1579    3  183    0    0    0\n",
            "     0    0    0    0    0    0    0    0    0    0    0    0    0    0\n",
            "     0    0]]\n",
            "Model=>LogisticRegression()\n",
            "Ans : ['1']\n",
            "Class of given text is=> Spam\n",
            "\n",
            "\n",
            "\n",
            "Model=>SGDClassifier()\n",
            "Ans : ['1']\n",
            "Class of given text is=> Spam\n",
            "\n",
            "\n",
            "\n",
            "Model=>KNeighborsClassifier()\n",
            "Ans : ['0']\n",
            "Class of given text is=> Non-Spam\n",
            "\n",
            "\n",
            "\n",
            "Model=>DecisionTreeClassifier()\n",
            "Ans : ['0']\n",
            "Class of given text is=> Non-Spam\n",
            "\n",
            "\n",
            "\n",
            "Model=>SVC()\n",
            "Ans : ['1']\n",
            "Class of given text is=> Spam\n",
            "\n",
            "\n",
            "\n",
            "Model=>GaussianNB()\n",
            "Ans : ['1']\n",
            "Class of given text is=> Spam\n",
            "\n",
            "\n",
            "\n",
            "Model=>RandomForestClassifier()\n",
            "Ans : ['1']\n",
            "Class of given text is=> Spam\n",
            "\n",
            "\n",
            "\n",
            "Model=>GradientBoostingClassifier()\n",
            "Ans : ['1']\n",
            "Class of given text is=> Spam\n",
            "\n",
            "\n",
            "\n"
          ]
        }
      ]
    },
    {
      "cell_type": "markdown",
      "source": [
        "#Spam detection using DL models"
      ],
      "metadata": {
        "id": "x52SafegmTMq"
      }
    },
    {
      "cell_type": "code",
      "source": [
        "X.shape\n",
        "print(type(X))\n",
        "x3=X\n",
        "yy = y.astype(float)\n",
        "x3.shape==X.shape\n",
        "# xx = X.astype(str)\n",
        "# print(type(xx))\n",
        "# xx.shape"
      ],
      "metadata": {
        "colab": {
          "base_uri": "https://localhost:8080/"
        },
        "id": "q-bRFhMsLG1Q",
        "outputId": "b7168b8b-c9c0-4c32-b4b2-780b1a6ed121"
      },
      "execution_count": null,
      "outputs": [
        {
          "output_type": "stream",
          "name": "stdout",
          "text": [
            "<class 'numpy.ndarray'>\n"
          ]
        },
        {
          "output_type": "execute_result",
          "data": {
            "text/plain": [
              "True"
            ]
          },
          "metadata": {},
          "execution_count": 19
        }
      ]
    },
    {
      "cell_type": "markdown",
      "source": [
        "###Hybrid CNN-RNN model"
      ],
      "metadata": {
        "id": "J7Zw50kvmjT4"
      }
    },
    {
      "cell_type": "code",
      "source": [
        "#pintu, 05/02/2022\n",
        "from tensorflow.keras.models import Sequential\n",
        "from tensorflow.keras import layers\n",
        "\n",
        "embedding_dim = 50 #size of dense vector.\n",
        "maxlen=30 #size of tweet after padding.\n",
        "vocab_size=len(tokenizer.word_index) + 1 #size of vocabulary.\n",
        "\n",
        "# model = Sequential()\n",
        "# model.add(layers.Embedding(vocab_size, embedding_dim, weights=[embedding_matrix_vocab], input_length=maxlen, trainable=True))\n",
        "# model.add(layers.Conv1D(128, 5, activation='relu'))\n",
        "# model.add(layers.MaxPooling1D(2))\n",
        "# model.add(layers.LSTM(32))\n",
        "# model.add(layers.Dense(1, activation='sigmoid'))\n",
        "# model.compile(optimizer='adam', loss='binary_crossentropy', metrics=['accuracy'])\n",
        "\n",
        "# model = Sequential()\n",
        "# model.add(layers.Embedding(vocab_size, embedding_dim, weights=[embedding_matrix_vocab], input_length=maxlen, trainable=True))\n",
        "# model.add(layers.Conv1D(256, 5, activation='relu'))\n",
        "# model.add(layers.MaxPooling1D(4))\n",
        "# model.add(layers.LSTM(64))\n",
        "# model.add(layers.Dense(1, activation='sigmoid'))\n",
        "# model.compile(optimizer='adam', loss='binary_crossentropy', metrics=['accuracy'])\n",
        "\n",
        "model = Sequential()\n",
        "model.add(layers.Embedding(vocab_size, embedding_dim, weights=[embedding_matrix_vocab], input_length=maxlen, trainable=True))\n",
        "model.add(layers.Conv1D(128, 5, activation='relu'))\n",
        "model.add(layers.MaxPooling1D(2))\n",
        "model.add(layers.LSTM(32))\n",
        "model.add(layers.Dense(1, activation='sigmoid'))\n",
        "model.compile(optimizer='RMSprop', loss='binary_crossentropy', metrics=['accuracy'])"
      ],
      "metadata": {
        "id": "-Oio84fcPqiJ"
      },
      "execution_count": null,
      "outputs": []
    },
    {
      "cell_type": "markdown",
      "source": [
        "###Run-1"
      ],
      "metadata": {
        "id": "wmnCkwmnmqCH"
      }
    },
    {
      "cell_type": "code",
      "source": [
        "#pintu, 05/02/2022\n",
        "\n",
        "from sklearn.model_selection import train_test_split\n",
        "from sklearn.metrics import confusion_matrix, classification_report\n",
        "\n",
        "#split dataset into train and test data\n",
        "####  splitting\n",
        "# Run-1, acc=91%\n",
        "# x_train, x_test, y_train, y_test = train_test_split(X, yy, test_size=0.2, random_state=1, stratify=y)\n",
        "# history = model.fit(x_train, y_train, epochs=10, validation_data=(x_test, y_test), batch_size=64)\n",
        "# model.summary()\n",
        "\n",
        "# Run-2, acc=93%\n",
        "x_train, x_test, y_train, y_test = train_test_split(X, yy, test_size=0.3, random_state=1, stratify=y)\n",
        "history = model.fit(x_train, y_train, epochs=10, validation_data=(x_test, y_test), batch_size=16)\n",
        "model.summary()\n",
        "\n",
        "# Run-3, acc=93%\n",
        "# x_train, x_test, y_train, y_test = train_test_split(X, yy, test_size=0.3, random_state=1, stratify=y)\n",
        "# history = model.fit(x_train, y_train, epochs=15, validation_data=(x_test, y_test), batch_size=32)\n",
        "# model.summary()"
      ],
      "metadata": {
        "colab": {
          "base_uri": "https://localhost:8080/"
        },
        "id": "Thw5xLOmoDnJ",
        "outputId": "82739121-b88c-4c47-ac08-9e4412d31ace"
      },
      "execution_count": null,
      "outputs": [
        {
          "output_type": "stream",
          "name": "stdout",
          "text": [
            "Epoch 1/10\n",
            "127/127 [==============================] - 5s 17ms/step - loss: 0.3265 - accuracy: 0.8776 - val_loss: 0.2954 - val_accuracy: 0.8769\n",
            "Epoch 2/10\n",
            "127/127 [==============================] - 2s 13ms/step - loss: 0.2015 - accuracy: 0.9284 - val_loss: 0.2746 - val_accuracy: 0.8918\n",
            "Epoch 3/10\n",
            "127/127 [==============================] - 2s 14ms/step - loss: 0.1422 - accuracy: 0.9526 - val_loss: 0.1726 - val_accuracy: 0.9367\n",
            "Epoch 4/10\n",
            "127/127 [==============================] - 3s 25ms/step - loss: 0.0957 - accuracy: 0.9704 - val_loss: 0.1769 - val_accuracy: 0.9367\n",
            "Epoch 5/10\n",
            "127/127 [==============================] - 3s 24ms/step - loss: 0.0574 - accuracy: 0.9842 - val_loss: 0.2329 - val_accuracy: 0.9379\n",
            "Epoch 6/10\n",
            "127/127 [==============================] - 3s 25ms/step - loss: 0.0391 - accuracy: 0.9911 - val_loss: 0.2016 - val_accuracy: 0.9425\n",
            "Epoch 7/10\n",
            "127/127 [==============================] - 3s 24ms/step - loss: 0.0335 - accuracy: 0.9921 - val_loss: 0.2086 - val_accuracy: 0.9436\n",
            "Epoch 8/10\n",
            "127/127 [==============================] - 3s 24ms/step - loss: 0.0189 - accuracy: 0.9961 - val_loss: 0.2864 - val_accuracy: 0.9402\n",
            "Epoch 9/10\n",
            "127/127 [==============================] - 4s 28ms/step - loss: 0.0177 - accuracy: 0.9965 - val_loss: 0.2980 - val_accuracy: 0.9333\n",
            "Epoch 10/10\n",
            "127/127 [==============================] - 3s 25ms/step - loss: 0.0162 - accuracy: 0.9965 - val_loss: 0.2712 - val_accuracy: 0.9379\n",
            "Model: \"sequential_2\"\n",
            "_________________________________________________________________\n",
            " Layer (type)                Output Shape              Param #   \n",
            "=================================================================\n",
            " embedding_2 (Embedding)     (None, 30, 50)            407300    \n",
            "                                                                 \n",
            " conv1d_2 (Conv1D)           (None, 26, 128)           32128     \n",
            "                                                                 \n",
            " max_pooling1d_2 (MaxPooling  (None, 13, 128)          0         \n",
            " 1D)                                                             \n",
            "                                                                 \n",
            " lstm_2 (LSTM)               (None, 32)                20608     \n",
            "                                                                 \n",
            " dense_2 (Dense)             (None, 1)                 33        \n",
            "                                                                 \n",
            "=================================================================\n",
            "Total params: 460,069\n",
            "Trainable params: 460,069\n",
            "Non-trainable params: 0\n",
            "_________________________________________________________________\n"
          ]
        }
      ]
    },
    {
      "cell_type": "code",
      "source": [
        "#pintu, 05/02/2022\n",
        "\n",
        "loss, accuracy = model.evaluate(x_train, y_train, verbose=False)\n",
        "print(\"Training Accuracy: {:.4f}\".format(accuracy))#overfitting.\n",
        "loss, accuracy = model.evaluate(x_test, y_test, verbose=False)\n",
        "print(\"Testing Accuracy:  {:.4f}\".format(accuracy))#actual accuracy"
      ],
      "metadata": {
        "id": "JPioYOeMoPRi",
        "colab": {
          "base_uri": "https://localhost:8080/"
        },
        "outputId": "927df882-9459-4cc8-8ead-fdfd39299623"
      },
      "execution_count": null,
      "outputs": [
        {
          "output_type": "stream",
          "name": "stdout",
          "text": [
            "Training Accuracy: 1.0000\n",
            "Testing Accuracy:  0.9298\n"
          ]
        }
      ]
    },
    {
      "cell_type": "code",
      "source": [
        "#pintu, 05/02/2022\n",
        "\n",
        "from math import floor\n",
        "from sklearn.metrics import classification_report, confusion_matrix\n",
        "def performance(x_test, y_test):\n",
        "  y_pred=model.predict(x_test)\n",
        "  # print(y_pred[0])\n",
        "  y_pred=[1 if x>=0.5 else 0 for x in y_pred]\n",
        "  # print(y_pred[0])\n",
        "  cm=confusion_matrix(y_test, y_pred)\n",
        "  cr=classification_report(y_test, y_pred)\n",
        "\n",
        "  print(\"Confusion matrix=\\n\",cm)\n",
        "  print(\"Classification report=\\n\",cr)\n",
        "\n",
        "#call the performance measure function\n",
        "performance(x_test, y_test)"
      ],
      "metadata": {
        "id": "8wIffr9LoRoa",
        "colab": {
          "base_uri": "https://localhost:8080/"
        },
        "outputId": "35e95969-a554-43ad-8091-0b17928c2d93"
      },
      "execution_count": null,
      "outputs": [
        {
          "output_type": "stream",
          "name": "stdout",
          "text": [
            "Confusion matrix=\n",
            " [[557  22]\n",
            " [ 32 258]]\n",
            "Classification report=\n",
            "               precision    recall  f1-score   support\n",
            "\n",
            "         0.0       0.95      0.96      0.95       579\n",
            "         1.0       0.92      0.89      0.91       290\n",
            "\n",
            "    accuracy                           0.94       869\n",
            "   macro avg       0.93      0.93      0.93       869\n",
            "weighted avg       0.94      0.94      0.94       869\n",
            "\n"
          ]
        }
      ]
    },
    {
      "cell_type": "markdown",
      "source": [
        "###Graph plotting"
      ],
      "metadata": {
        "id": "DrX9rtQpmjBT"
      }
    },
    {
      "cell_type": "code",
      "source": [
        "import matplotlib.pyplot as plt\n",
        "plt.style.use('ggplot')\n",
        "\n",
        "def plot_history(history):\n",
        "    acc = history.history['accuracy']\n",
        "    val_acc = history.history['val_accuracy']\n",
        "    loss = history.history['loss']\n",
        "    val_loss = history.history['val_loss']\n",
        "    x = range(1, len(acc) + 1)\n",
        "\n",
        "    plt.figure(figsize=(12, 5))\n",
        "    plt.subplot(1, 2, 1)\n",
        "    plt.plot(x, acc, 'b', label='Training acc')\n",
        "    plt.plot(x, val_acc, 'r', label='Validation acc')\n",
        "    plt.title('Training and validation accuracy')\n",
        "    plt.legend()\n",
        "    plt.subplot(1, 2, 2)\n",
        "    plt.plot(x, loss, 'b', label='Training loss')\n",
        "    plt.plot(x, val_loss, 'r', label='Validation loss')\n",
        "    plt.title('Training and validation loss')\n",
        "    plt.legend()\n",
        "\n",
        "\n",
        "#call the function using history\n",
        "plot_history(history)"
      ],
      "metadata": {
        "colab": {
          "base_uri": "https://localhost:8080/",
          "height": 337
        },
        "id": "-nkpVBe9miBe",
        "outputId": "29a4b1ac-28b6-421f-9a4f-5b3647b0f306"
      },
      "execution_count": null,
      "outputs": [
        {
          "output_type": "display_data",
          "data": {
            "image/png": "[encoded data removed]",
            "text/plain": [
              "<Figure size 864x360 with 2 Axes>"
            ]
          },
          "metadata": {}
        }
      ]
    }
  ]
}